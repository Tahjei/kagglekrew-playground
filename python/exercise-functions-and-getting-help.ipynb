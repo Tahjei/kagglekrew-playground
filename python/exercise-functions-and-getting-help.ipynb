{
 "cells": [
  {
   "cell_type": "markdown",
   "id": "a43fdfbd",
   "metadata": {
    "papermill": {
     "duration": 0.014531,
     "end_time": "2022-03-22T21:05:38.710702",
     "exception": false,
     "start_time": "2022-03-22T21:05:38.696171",
     "status": "completed"
    },
    "tags": []
   },
   "source": [
    "**This notebook is an exercise in the [Python](https://www.kaggle.com/learn/python) course.  You can reference the tutorial at [this link](https://www.kaggle.com/colinmorris/functions-and-getting-help).**\n",
    "\n",
    "---\n"
   ]
  },
  {
   "cell_type": "markdown",
   "id": "fc64aef9",
   "metadata": {
    "papermill": {
     "duration": 0.013284,
     "end_time": "2022-03-22T21:05:38.738168",
     "exception": false,
     "start_time": "2022-03-22T21:05:38.724884",
     "status": "completed"
    },
    "tags": []
   },
   "source": [
    "Functions are powerful. Try writing some yourself.\n",
    "\n",
    "As before, don't forget to run the setup code below before jumping into question 1."
   ]
  },
  {
   "cell_type": "code",
   "execution_count": 1,
   "id": "e6283065",
   "metadata": {
    "_kg_hide-input": true,
    "_kg_hide-output": true,
    "execution": {
     "iopub.execute_input": "2022-03-22T21:05:38.770826Z",
     "iopub.status.busy": "2022-03-22T21:05:38.769660Z",
     "iopub.status.idle": "2022-03-22T21:05:38.823855Z",
     "shell.execute_reply": "2022-03-22T21:05:38.824320Z",
     "shell.execute_reply.started": "2022-03-22T20:55:57.298410Z"
    },
    "papermill": {
     "duration": 0.072745,
     "end_time": "2022-03-22T21:05:38.824600",
     "exception": false,
     "start_time": "2022-03-22T21:05:38.751855",
     "status": "completed"
    },
    "tags": []
   },
   "outputs": [
    {
     "name": "stdout",
     "output_type": "stream",
     "text": [
      "Setup complete.\n"
     ]
    }
   ],
   "source": [
    "# SETUP. You don't need to worry for now about what this code does or how it works.\n",
    "from learntools.core import binder; binder.bind(globals())\n",
    "from learntools.python.ex2 import *\n",
    "print('Setup complete.')"
   ]
  },
  {
   "cell_type": "markdown",
   "id": "b55228f3",
   "metadata": {
    "papermill": {
     "duration": 0.014175,
     "end_time": "2022-03-22T21:05:38.853556",
     "exception": false,
     "start_time": "2022-03-22T21:05:38.839381",
     "status": "completed"
    },
    "tags": []
   },
   "source": [
    "# 1.\n",
    "\n",
    "Complete the body of the following function according to its docstring.\n",
    "\n",
    "HINT: Python has a built-in function `round`."
   ]
  },
  {
   "cell_type": "code",
   "execution_count": 2,
   "id": "8bee9a06",
   "metadata": {
    "execution": {
     "iopub.execute_input": "2022-03-22T21:05:38.885406Z",
     "iopub.status.busy": "2022-03-22T21:05:38.884732Z",
     "iopub.status.idle": "2022-03-22T21:05:38.895489Z",
     "shell.execute_reply": "2022-03-22T21:05:38.895886Z",
     "shell.execute_reply.started": "2022-03-22T20:56:40.339418Z"
    },
    "papermill": {
     "duration": 0.028217,
     "end_time": "2022-03-22T21:05:38.896017",
     "exception": false,
     "start_time": "2022-03-22T21:05:38.867800",
     "status": "completed"
    },
    "tags": []
   },
   "outputs": [
    {
     "data": {
      "application/javascript": [
       "parent.postMessage({\"jupyterEvent\": \"custom.exercise_interaction\", \"data\": {\"outcomeType\": 1, \"valueTowardsCompletion\": 0.16666666666666666, \"interactionType\": 1, \"questionType\": 2, \"questionId\": \"1_RoundFunctionProblem\", \"learnToolsVersion\": \"0.3.4\", \"failureMessage\": \"\", \"exceptionClass\": \"\", \"trace\": \"\"}}, \"*\")"
      ],
      "text/plain": [
       "<IPython.core.display.Javascript object>"
      ]
     },
     "metadata": {},
     "output_type": "display_data"
    },
    {
     "data": {
      "text/markdown": [
       "<span style=\"color:#33cc33\">Correct</span>"
      ],
      "text/plain": [
       "Correct"
      ]
     },
     "metadata": {},
     "output_type": "display_data"
    }
   ],
   "source": [
    "def round_to_two_places(num):\n",
    "    \"\"\"Return the given number rounded to two decimal places. \n",
    "    >>> round_to_two_places(3.14159)\n",
    "    3.14\n",
    "    \"\"\"\n",
    "    return round(num,2)\n",
    "    # Replace this body with your own code.\n",
    "    # (\"pass\" is a keyword that does literally nothing. We used it as a placeholder\n",
    "    # because after we begin a code block, Python requires at least one line of code)\n",
    "    pass\n",
    "\n",
    "# Check your answer\n",
    "q1.check()"
   ]
  },
  {
   "cell_type": "code",
   "execution_count": 3,
   "id": "2b47fe21",
   "metadata": {
    "execution": {
     "iopub.execute_input": "2022-03-22T21:05:38.930986Z",
     "iopub.status.busy": "2022-03-22T21:05:38.930281Z",
     "iopub.status.idle": "2022-03-22T21:05:38.932029Z",
     "shell.execute_reply": "2022-03-22T21:05:38.932514Z"
    },
    "papermill": {
     "duration": 0.021239,
     "end_time": "2022-03-22T21:05:38.932676",
     "exception": false,
     "start_time": "2022-03-22T21:05:38.911437",
     "status": "completed"
    },
    "tags": []
   },
   "outputs": [],
   "source": [
    "# Uncomment the following for a hint\n",
    "#q1.hint()\n",
    "# Or uncomment the following to peek at the solution\n",
    "#q1.solution()"
   ]
  },
  {
   "cell_type": "markdown",
   "id": "4d3c02ec",
   "metadata": {
    "papermill": {
     "duration": 0.015431,
     "end_time": "2022-03-22T21:05:38.963859",
     "exception": false,
     "start_time": "2022-03-22T21:05:38.948428",
     "status": "completed"
    },
    "tags": []
   },
   "source": [
    "# 2.\n",
    "The help for `round` says that `ndigits` (the second argument) may be negative.\n",
    "What do you think will happen when it is? Try some examples in the following cell."
   ]
  },
  {
   "cell_type": "code",
   "execution_count": 4,
   "id": "9aa6e452",
   "metadata": {
    "execution": {
     "iopub.execute_input": "2022-03-22T21:05:38.999657Z",
     "iopub.status.busy": "2022-03-22T21:05:38.999101Z",
     "iopub.status.idle": "2022-03-22T21:05:39.004653Z",
     "shell.execute_reply": "2022-03-22T21:05:39.005029Z",
     "shell.execute_reply.started": "2022-03-22T20:57:47.896413Z"
    },
    "papermill": {
     "duration": 0.025808,
     "end_time": "2022-03-22T21:05:39.005184",
     "exception": false,
     "start_time": "2022-03-22T21:05:38.979376",
     "status": "completed"
    },
    "tags": []
   },
   "outputs": [
    {
     "data": {
      "text/plain": [
       "1593000.0"
      ]
     },
     "execution_count": 4,
     "metadata": {},
     "output_type": "execute_result"
    }
   ],
   "source": [
    "# Put your test code here\n",
    "round(1593029.039,-2)"
   ]
  },
  {
   "cell_type": "markdown",
   "id": "f9da93ad",
   "metadata": {
    "papermill": {
     "duration": 0.015783,
     "end_time": "2022-03-22T21:05:39.037338",
     "exception": false,
     "start_time": "2022-03-22T21:05:39.021555",
     "status": "completed"
    },
    "tags": []
   },
   "source": [
    "Can you think of a case where this would be useful?  Once you're ready, run the code cell below to see the answer and to receive credit for completing the problem."
   ]
  },
  {
   "cell_type": "code",
   "execution_count": 5,
   "id": "8b92da19",
   "metadata": {
    "execution": {
     "iopub.execute_input": "2022-03-22T21:05:39.075652Z",
     "iopub.status.busy": "2022-03-22T21:05:39.075049Z",
     "iopub.status.idle": "2022-03-22T21:05:39.082301Z",
     "shell.execute_reply": "2022-03-22T21:05:39.081871Z",
     "shell.execute_reply.started": "2022-03-22T20:57:08.784066Z"
    },
    "papermill": {
     "duration": 0.028688,
     "end_time": "2022-03-22T21:05:39.082432",
     "exception": false,
     "start_time": "2022-03-22T21:05:39.053744",
     "status": "completed"
    },
    "tags": []
   },
   "outputs": [
    {
     "data": {
      "application/javascript": [
       "parent.postMessage({\"jupyterEvent\": \"custom.exercise_interaction\", \"data\": {\"interactionType\": 3, \"questionType\": 4, \"questionId\": \"2_RoundNdigitsProblem\", \"learnToolsVersion\": \"0.3.4\", \"valueTowardsCompletion\": 0.0, \"failureMessage\": \"\", \"exceptionClass\": \"\", \"trace\": \"\", \"outcomeType\": 4}}, \"*\")"
      ],
      "text/plain": [
       "<IPython.core.display.Javascript object>"
      ]
     },
     "metadata": {},
     "output_type": "display_data"
    },
    {
     "data": {
      "text/markdown": [
       "<span style=\"color:#33cc99\">Solution:</span> As you've seen, `ndigits=-1` rounds to the nearest 10, `ndigits=-2` rounds to the nearest 100 and so on. Where might this be useful? Suppose we're dealing with large numbers:\n",
       "\n",
       "> The area of Finland is 338,424 km²  \n",
       "> The area of Greenland is 2,166,086 km²\n",
       "\n",
       "We probably don't care whether it's really 338,424, or 338,425, or 338,177. All those digits of accuracy are just distracting. We can chop them off by calling `round()` with `ndigits=-3`:\n",
       "\n",
       "> The area of Finland is 338,000 km²  \n",
       "> The area of Greenland is 2,166,000 km²\n",
       "\n",
       "(We'll talk about how we would get the commas later when we talk about string formatting :))\n"
      ],
      "text/plain": [
       "Solution: As you've seen, `ndigits=-1` rounds to the nearest 10, `ndigits=-2` rounds to the nearest 100 and so on. Where might this be useful? Suppose we're dealing with large numbers:\n",
       "\n",
       "> The area of Finland is 338,424 km²  \n",
       "> The area of Greenland is 2,166,086 km²\n",
       "\n",
       "We probably don't care whether it's really 338,424, or 338,425, or 338,177. All those digits of accuracy are just distracting. We can chop them off by calling `round()` with `ndigits=-3`:\n",
       "\n",
       "> The area of Finland is 338,000 km²  \n",
       "> The area of Greenland is 2,166,000 km²\n",
       "\n",
       "(We'll talk about how we would get the commas later when we talk about string formatting :))"
      ]
     },
     "metadata": {},
     "output_type": "display_data"
    }
   ],
   "source": [
    "# Check your answer (Run this code cell to receive credit!)\n",
    "q2.solution()"
   ]
  },
  {
   "cell_type": "markdown",
   "id": "c7315626",
   "metadata": {
    "papermill": {
     "duration": 0.016637,
     "end_time": "2022-03-22T21:05:39.116444",
     "exception": false,
     "start_time": "2022-03-22T21:05:39.099807",
     "status": "completed"
    },
    "tags": []
   },
   "source": [
    "# 3.\n",
    "\n",
    "In the previous exercise, the candy-sharing friends Alice, Bob and Carol tried to split candies evenly. For the sake of their friendship, any candies left over would be smashed. For example, if they collectively bring home 91 candies, they'll take 30 each and smash 1.\n",
    "\n",
    "Below is a simple function that will calculate the number of candies to smash for *any* number of total candies.\n",
    "\n",
    "Modify it so that it optionally takes a second argument representing the number of friends the candies are being split between. If no second argument is provided, it should assume 3 friends, as before.\n",
    "\n",
    "Update the docstring to reflect this new behaviour."
   ]
  },
  {
   "cell_type": "code",
   "execution_count": 6,
   "id": "e2ce10dd",
   "metadata": {
    "execution": {
     "iopub.execute_input": "2022-03-22T21:05:39.156272Z",
     "iopub.status.busy": "2022-03-22T21:05:39.155775Z",
     "iopub.status.idle": "2022-03-22T21:05:39.161349Z",
     "shell.execute_reply": "2022-03-22T21:05:39.160803Z",
     "shell.execute_reply.started": "2022-03-22T21:00:44.006153Z"
    },
    "papermill": {
     "duration": 0.028308,
     "end_time": "2022-03-22T21:05:39.161535",
     "exception": false,
     "start_time": "2022-03-22T21:05:39.133227",
     "status": "completed"
    },
    "tags": []
   },
   "outputs": [
    {
     "data": {
      "application/javascript": [
       "parent.postMessage({\"jupyterEvent\": \"custom.exercise_interaction\", \"data\": {\"outcomeType\": 1, \"valueTowardsCompletion\": 0.16666666666666666, \"interactionType\": 1, \"questionType\": 2, \"questionId\": \"3_CandySmashingFunctionProblem\", \"learnToolsVersion\": \"0.3.4\", \"failureMessage\": \"\", \"exceptionClass\": \"\", \"trace\": \"\"}}, \"*\")"
      ],
      "text/plain": [
       "<IPython.core.display.Javascript object>"
      ]
     },
     "metadata": {},
     "output_type": "display_data"
    },
    {
     "data": {
      "text/markdown": [
       "<span style=\"color:#33cc33\">Correct</span>"
      ],
      "text/plain": [
       "Correct"
      ]
     },
     "metadata": {},
     "output_type": "display_data"
    }
   ],
   "source": [
    "def to_smash(total_candies,num_friends = 3):\n",
    "    \"\"\"Return the number of leftover candies that must be smashed after distributing\n",
    "    the given number of candies evenly between 3 friends.\n",
    "    \n",
    "    >>> to_smash(91)\n",
    "    1\n",
    "    \"\"\"\n",
    "    return total_candies % num_friends\n",
    "\n",
    "# Check your answer\n",
    "q3.check()"
   ]
  },
  {
   "cell_type": "code",
   "execution_count": 7,
   "id": "5c2ad15b",
   "metadata": {
    "execution": {
     "iopub.execute_input": "2022-03-22T21:05:39.219594Z",
     "iopub.status.busy": "2022-03-22T21:05:39.219027Z",
     "iopub.status.idle": "2022-03-22T21:05:39.221029Z",
     "shell.execute_reply": "2022-03-22T21:05:39.221491Z",
     "shell.execute_reply.started": "2022-03-22T20:59:51.826505Z"
    },
    "papermill": {
     "duration": 0.033327,
     "end_time": "2022-03-22T21:05:39.221630",
     "exception": false,
     "start_time": "2022-03-22T21:05:39.188303",
     "status": "completed"
    },
    "tags": []
   },
   "outputs": [],
   "source": [
    "#q3.hint()"
   ]
  },
  {
   "cell_type": "code",
   "execution_count": 8,
   "id": "42194b62",
   "metadata": {
    "execution": {
     "iopub.execute_input": "2022-03-22T21:05:39.260403Z",
     "iopub.status.busy": "2022-03-22T21:05:39.259918Z",
     "iopub.status.idle": "2022-03-22T21:05:39.263089Z",
     "shell.execute_reply": "2022-03-22T21:05:39.262639Z",
     "shell.execute_reply.started": "2022-03-22T21:01:12.254140Z"
    },
    "papermill": {
     "duration": 0.023949,
     "end_time": "2022-03-22T21:05:39.263203",
     "exception": false,
     "start_time": "2022-03-22T21:05:39.239254",
     "status": "completed"
    },
    "tags": []
   },
   "outputs": [],
   "source": [
    "#q3.solution()"
   ]
  },
  {
   "cell_type": "markdown",
   "id": "eb86fe2f",
   "metadata": {
    "papermill": {
     "duration": 0.017523,
     "end_time": "2022-03-22T21:05:39.298741",
     "exception": false,
     "start_time": "2022-03-22T21:05:39.281218",
     "status": "completed"
    },
    "tags": []
   },
   "source": [
    "# 4. (Optional)\n",
    "\n",
    "It may not be fun, but reading and understanding error messages will be an important part of your Python career.\n",
    "\n",
    "Each code cell below contains some commented buggy code. For each cell...\n",
    "\n",
    "1. Read the code and predict what you think will happen when it's run.\n",
    "2. Then uncomment the code and run it to see what happens. (**Tip**: In the kernel editor, you can highlight several lines and press `ctrl`+`/` to toggle commenting.)\n",
    "3. Fix the code (so that it accomplishes its intended purpose without throwing an exception)\n",
    "\n",
    "<!-- TODO: should this be autochecked? Delta is probably pretty small. -->"
   ]
  },
  {
   "cell_type": "code",
   "execution_count": 9,
   "id": "c12f790e",
   "metadata": {
    "execution": {
     "iopub.execute_input": "2022-03-22T21:05:39.337565Z",
     "iopub.status.busy": "2022-03-22T21:05:39.337035Z",
     "iopub.status.idle": "2022-03-22T21:05:39.341355Z",
     "shell.execute_reply": "2022-03-22T21:05:39.341819Z",
     "shell.execute_reply.started": "2022-03-22T21:03:17.073799Z"
    },
    "papermill": {
     "duration": 0.025338,
     "end_time": "2022-03-22T21:05:39.341964",
     "exception": false,
     "start_time": "2022-03-22T21:05:39.316626",
     "status": "completed"
    },
    "tags": []
   },
   "outputs": [
    {
     "data": {
      "text/plain": [
       "10.0"
      ]
     },
     "execution_count": 9,
     "metadata": {},
     "output_type": "execute_result"
    }
   ],
   "source": [
    "# ruound_to_two_places(9.9999)\n",
    "round_to_two_places(9.9999)"
   ]
  },
  {
   "cell_type": "code",
   "execution_count": 10,
   "id": "351732bd",
   "metadata": {
    "execution": {
     "iopub.execute_input": "2022-03-22T21:05:39.382412Z",
     "iopub.status.busy": "2022-03-22T21:05:39.380409Z",
     "iopub.status.idle": "2022-03-22T21:05:39.385065Z",
     "shell.execute_reply": "2022-03-22T21:05:39.385421Z",
     "shell.execute_reply.started": "2022-03-22T21:03:33.140315Z"
    },
    "papermill": {
     "duration": 0.025487,
     "end_time": "2022-03-22T21:05:39.385592",
     "exception": false,
     "start_time": "2022-03-22T21:05:39.360105",
     "status": "completed"
    },
    "tags": []
   },
   "outputs": [
    {
     "name": "stdout",
     "output_type": "stream",
     "text": [
      "5\n"
     ]
    }
   ],
   "source": [
    "x = -10\n",
    "y = 5\n",
    " # Which of the two variables above has the smallest absolute value?\n",
    " # smallest_abs = min(abs(x, y))\n",
    "smallest_abs = min(abs(x),abs(y))\n",
    "print(smallest_abs)"
   ]
  },
  {
   "cell_type": "code",
   "execution_count": 11,
   "id": "f1c34411",
   "metadata": {
    "execution": {
     "iopub.execute_input": "2022-03-22T21:05:39.426155Z",
     "iopub.status.busy": "2022-03-22T21:05:39.425521Z",
     "iopub.status.idle": "2022-03-22T21:05:39.430107Z",
     "shell.execute_reply": "2022-03-22T21:05:39.430602Z",
     "shell.execute_reply.started": "2022-03-22T21:04:22.700270Z"
    },
    "papermill": {
     "duration": 0.026353,
     "end_time": "2022-03-22T21:05:39.430734",
     "exception": false,
     "start_time": "2022-03-22T21:05:39.404381",
     "status": "completed"
    },
    "tags": []
   },
   "outputs": [
    {
     "name": "stdout",
     "output_type": "stream",
     "text": [
      "5\n"
     ]
    }
   ],
   "source": [
    "# def f(x):\n",
    "#     y = abs(x)\n",
    "# return y\n",
    "\n",
    "def f(x):\n",
    "    y = abs(x)\n",
    "    return y\n",
    "\n",
    "print(f(5))"
   ]
  },
  {
   "cell_type": "markdown",
   "id": "c4741948",
   "metadata": {
    "papermill": {
     "duration": 0.018531,
     "end_time": "2022-03-22T21:05:39.468318",
     "exception": false,
     "start_time": "2022-03-22T21:05:39.449787",
     "status": "completed"
    },
    "tags": []
   },
   "source": [
    "# Keep Going\n",
    "\n",
    "Nice job with the code. Next up, you'll learn about *conditionals*, which you'll need to **[write interesting programs](https://www.kaggle.com/colinmorris/booleans-and-conditionals)**. "
   ]
  },
  {
   "cell_type": "markdown",
   "id": "97bf22c1",
   "metadata": {
    "papermill": {
     "duration": 0.018444,
     "end_time": "2022-03-22T21:05:39.505547",
     "exception": false,
     "start_time": "2022-03-22T21:05:39.487103",
     "status": "completed"
    },
    "tags": []
   },
   "source": [
    "---\n",
    "\n",
    "\n",
    "\n",
    "\n",
    "*Have questions or comments? Visit the [course discussion forum](https://www.kaggle.com/learn/python/discussion) to chat with other learners.*"
   ]
  }
 ],
 "metadata": {
  "kernelspec": {
   "display_name": "Python 3",
   "language": "python",
   "name": "python3"
  },
  "language_info": {
   "codemirror_mode": {
    "name": "ipython",
    "version": 3
   },
   "file_extension": ".py",
   "mimetype": "text/x-python",
   "name": "python",
   "nbconvert_exporter": "python",
   "pygments_lexer": "ipython3",
   "version": "3.7.12"
  },
  "papermill": {
   "default_parameters": {},
   "duration": 10.724878,
   "end_time": "2022-03-22T21:05:40.334982",
   "environment_variables": {},
   "exception": null,
   "input_path": "__notebook__.ipynb",
   "output_path": "__notebook__.ipynb",
   "parameters": {},
   "start_time": "2022-03-22T21:05:29.610104",
   "version": "2.3.3"
  }
 },
 "nbformat": 4,
 "nbformat_minor": 5
}
