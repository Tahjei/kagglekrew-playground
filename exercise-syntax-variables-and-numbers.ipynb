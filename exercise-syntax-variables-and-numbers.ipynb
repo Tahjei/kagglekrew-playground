{
 "cells": [
  {
   "cell_type": "markdown",
   "id": "22b8ea5b",
   "metadata": {
    "papermill": {
     "duration": 0.019638,
     "end_time": "2022-03-22T20:49:46.800229",
     "exception": false,
     "start_time": "2022-03-22T20:49:46.780591",
     "status": "completed"
    },
    "tags": []
   },
   "source": [
    "**This notebook is an exercise in the [Python](https://www.kaggle.com/learn/python) course.  You can reference the tutorial at [this link](https://www.kaggle.com/colinmorris/hello-python).**\n",
    "\n",
    "---\n"
   ]
  },
  {
   "cell_type": "markdown",
   "id": "a40e41d8",
   "metadata": {
    "papermill": {
     "duration": 0.018255,
     "end_time": "2022-03-22T20:49:46.839852",
     "exception": false,
     "start_time": "2022-03-22T20:49:46.821597",
     "status": "completed"
    },
    "tags": []
   },
   "source": [
    "Welcome to your first set of Python coding problems.  If this is your first time using Kaggle Notebooks, welcome! \n",
    "\n",
    "Notebooks are composed of blocks (called \"cells\") of text and code. Each of these is editable, though you'll mainly be editing the code cells to answer some questions.\n",
    "\n",
    "To get started, try running the code cell below (by pressing the ► button, or clicking on the cell and pressing ctrl+enter on your keyboard)."
   ]
  },
  {
   "cell_type": "code",
   "execution_count": 1,
   "id": "2715f60f",
   "metadata": {
    "execution": {
     "iopub.execute_input": "2022-03-22T20:49:46.883178Z",
     "iopub.status.busy": "2022-03-22T20:49:46.881498Z",
     "iopub.status.idle": "2022-03-22T20:49:46.891424Z",
     "shell.execute_reply": "2022-03-22T20:49:46.891957Z",
     "shell.execute_reply.started": "2022-03-22T20:44:20.936399Z"
    },
    "papermill": {
     "duration": 0.033692,
     "end_time": "2022-03-22T20:49:46.892239",
     "exception": false,
     "start_time": "2022-03-22T20:49:46.858547",
     "status": "completed"
    },
    "tags": []
   },
   "outputs": [
    {
     "name": "stdout",
     "output_type": "stream",
     "text": [
      "You've successfully run some Python code\n",
      "Congratulations!\n"
     ]
    }
   ],
   "source": [
    "print(\"You've successfully run some Python code\")\n",
    "print(\"Congratulations!\")"
   ]
  },
  {
   "cell_type": "markdown",
   "id": "2599fd85",
   "metadata": {
    "papermill": {
     "duration": 0.018801,
     "end_time": "2022-03-22T20:49:46.930657",
     "exception": false,
     "start_time": "2022-03-22T20:49:46.911856",
     "status": "completed"
    },
    "tags": []
   },
   "source": [
    "Try adding another line of code in the cell above and re-running it. \n",
    "\n",
    "Now let's get a little fancier:  Add a new code cell by clicking on an existing code cell, hitting the escape key, and then hitting the `a` or `b` key.  The `a` key will add a cell above the current cell, and `b` adds a cell below.\n",
    "\n",
    "Great! Now you know how to use Notebooks.\n",
    "\n",
    "Each hands-on exercise starts by setting up our feedback and code checking mechanism. Run the code cell below to do that. Then you'll be ready to move on to question 0."
   ]
  },
  {
   "cell_type": "code",
   "execution_count": 2,
   "id": "2f8f9420",
   "metadata": {
    "_kg_hide-input": true,
    "_kg_hide-output": true,
    "execution": {
     "iopub.execute_input": "2022-03-22T20:49:46.971243Z",
     "iopub.status.busy": "2022-03-22T20:49:46.970659Z",
     "iopub.status.idle": "2022-03-22T20:49:47.007288Z",
     "shell.execute_reply": "2022-03-22T20:49:47.007711Z",
     "shell.execute_reply.started": "2022-03-22T20:44:20.943130Z"
    },
    "papermill": {
     "duration": 0.058371,
     "end_time": "2022-03-22T20:49:47.007878",
     "exception": false,
     "start_time": "2022-03-22T20:49:46.949507",
     "status": "completed"
    },
    "tags": []
   },
   "outputs": [
    {
     "name": "stdout",
     "output_type": "stream",
     "text": [
      "Setup complete! You're ready to start question 0.\n"
     ]
    }
   ],
   "source": [
    "from learntools.core import binder; binder.bind(globals())\n",
    "from learntools.python.ex1 import *\n",
    "print(\"Setup complete! You're ready to start question 0.\")"
   ]
  },
  {
   "cell_type": "markdown",
   "id": "d304d425",
   "metadata": {
    "papermill": {
     "duration": 0.019068,
     "end_time": "2022-03-22T20:49:47.046142",
     "exception": false,
     "start_time": "2022-03-22T20:49:47.027074",
     "status": "completed"
    },
    "tags": []
   },
   "source": [
    "# 0.\n",
    "\n",
    "*This is a silly question intended as an introduction to the format we use for hands-on exercises throughout all Kaggle courses.*\n",
    "\n",
    "**What is your favorite color? **\n",
    "\n",
    "To complete this question, create a variable called `color` in the cell below with an appropriate value. The function call `q0.check()` (which we've already provided in the cell below) will check your answer."
   ]
  },
  {
   "cell_type": "code",
   "execution_count": 3,
   "id": "f3c65adb",
   "metadata": {
    "execution": {
     "iopub.execute_input": "2022-03-22T20:49:47.087409Z",
     "iopub.status.busy": "2022-03-22T20:49:47.086830Z",
     "iopub.status.idle": "2022-03-22T20:49:47.093785Z",
     "shell.execute_reply": "2022-03-22T20:49:47.094210Z",
     "shell.execute_reply.started": "2022-03-22T20:44:20.959187Z"
    },
    "papermill": {
     "duration": 0.029035,
     "end_time": "2022-03-22T20:49:47.094375",
     "exception": false,
     "start_time": "2022-03-22T20:49:47.065340",
     "status": "completed"
    },
    "tags": []
   },
   "outputs": [
    {
     "data": {
      "application/javascript": [
       "parent.postMessage({\"jupyterEvent\": \"custom.exercise_interaction\", \"data\": {\"outcomeType\": 1, \"valueTowardsCompletion\": 0.25, \"interactionType\": 1, \"questionType\": 2, \"questionId\": \"0_ExerciseFormatTutorial\", \"learnToolsVersion\": \"0.3.4\", \"failureMessage\": \"\", \"exceptionClass\": \"\", \"trace\": \"\"}}, \"*\")"
      ],
      "text/plain": [
       "<IPython.core.display.Javascript object>"
      ]
     },
     "metadata": {},
     "output_type": "display_data"
    },
    {
     "data": {
      "text/markdown": [
       "<span style=\"color:#33cc33\">Correct:</span> What?! You got it right without needing a hint or anything? Drats. Well hey, you should still continue to the next step to get some practice asking for a hint and checking solutions. (Even though you obviously don't need any help here.)"
      ],
      "text/plain": [
       "Correct: What?! You got it right without needing a hint or anything? Drats. Well hey, you should still continue to the next step to get some practice asking for a hint and checking solutions. (Even though you obviously don't need any help here.)"
      ]
     },
     "metadata": {},
     "output_type": "display_data"
    }
   ],
   "source": [
    "# create a variable called color with an appropriate value on the line below\n",
    "# (Remember, strings in Python must be enclosed in 'single' or \"double\" quotes)\n",
    "____\n",
    "color = 'blue'\n",
    "# Check your answer\n",
    "q0.check()"
   ]
  },
  {
   "cell_type": "markdown",
   "id": "a30cfe31",
   "metadata": {
    "papermill": {
     "duration": 0.019639,
     "end_time": "2022-03-22T20:49:47.133921",
     "exception": false,
     "start_time": "2022-03-22T20:49:47.114282",
     "status": "completed"
    },
    "tags": []
   },
   "source": [
    "Didn't get the right answer? How do you not even know your own favorite color?!\n",
    "\n",
    "Delete the `#` in the line below to make one of the lines run. You can choose between getting a hint or the full answer by choosing which line to remove the `#` from. \n",
    "\n",
    "Removing the `#` is called uncommenting, because it changes that line from a \"comment\" which Python doesn't run to code, which Python does run."
   ]
  },
  {
   "cell_type": "code",
   "execution_count": 4,
   "id": "b482e4cc",
   "metadata": {
    "execution": {
     "iopub.execute_input": "2022-03-22T20:49:47.179261Z",
     "iopub.status.busy": "2022-03-22T20:49:47.178313Z",
     "iopub.status.idle": "2022-03-22T20:49:47.188174Z",
     "shell.execute_reply": "2022-03-22T20:49:47.188716Z",
     "shell.execute_reply.started": "2022-03-22T20:44:20.972944Z"
    },
    "papermill": {
     "duration": 0.033539,
     "end_time": "2022-03-22T20:49:47.188885",
     "exception": false,
     "start_time": "2022-03-22T20:49:47.155346",
     "status": "completed"
    },
    "tags": []
   },
   "outputs": [
    {
     "data": {
      "application/javascript": [
       "parent.postMessage({\"jupyterEvent\": \"custom.exercise_interaction\", \"data\": {\"interactionType\": 2, \"questionType\": 2, \"questionId\": \"0_ExerciseFormatTutorial\", \"learnToolsVersion\": \"0.3.4\", \"valueTowardsCompletion\": 0.0, \"failureMessage\": \"\", \"exceptionClass\": \"\", \"trace\": \"\", \"outcomeType\": 4}}, \"*\")"
      ],
      "text/plain": [
       "<IPython.core.display.Javascript object>"
      ]
     },
     "metadata": {},
     "output_type": "display_data"
    },
    {
     "data": {
      "text/markdown": [
       "<span style=\"color:#3366cc\">Hint:</span> Your favorite color rhymes with *glue*."
      ],
      "text/plain": [
       "Hint: Your favorite color rhymes with *glue*."
      ]
     },
     "metadata": {},
     "output_type": "display_data"
    },
    {
     "data": {
      "application/javascript": [
       "parent.postMessage({\"jupyterEvent\": \"custom.exercise_interaction\", \"data\": {\"interactionType\": 3, \"questionType\": 2, \"questionId\": \"0_ExerciseFormatTutorial\", \"learnToolsVersion\": \"0.3.4\", \"valueTowardsCompletion\": 0.0, \"failureMessage\": \"\", \"exceptionClass\": \"\", \"trace\": \"\", \"outcomeType\": 4}}, \"*\")"
      ],
      "text/plain": [
       "<IPython.core.display.Javascript object>"
      ]
     },
     "metadata": {},
     "output_type": "display_data"
    },
    {
     "data": {
      "text/markdown": [
       "<span style=\"color:#33cc99\">Solution:</span> \n",
       "```python\n",
       "color = \"blue\"\n",
       "```"
      ],
      "text/plain": [
       "Solution: \n",
       "```python\n",
       "color = \"blue\"\n",
       "```"
      ]
     },
     "metadata": {},
     "output_type": "display_data"
    }
   ],
   "source": [
    "q0.hint()\n",
    "q0.solution()"
   ]
  },
  {
   "cell_type": "markdown",
   "id": "606ac729",
   "metadata": {
    "papermill": {
     "duration": 0.021787,
     "end_time": "2022-03-22T20:49:47.232431",
     "exception": false,
     "start_time": "2022-03-22T20:49:47.210644",
     "status": "completed"
    },
    "tags": []
   },
   "source": [
    "The upcoming questions work the same way. The only thing that will change are the question numbers. For the next question, you'll call `q1.check()`, `q1.hint()`, `q1.solution()`, for question 2, you'll call `q2.check()`, and so on."
   ]
  },
  {
   "cell_type": "markdown",
   "id": "862dad18",
   "metadata": {
    "papermill": {
     "duration": 0.021508,
     "end_time": "2022-03-22T20:49:47.275732",
     "exception": false,
     "start_time": "2022-03-22T20:49:47.254224",
     "status": "completed"
    },
    "tags": []
   },
   "source": [
    "<hr/>\n",
    "\n",
    "# 1.\n",
    "\n",
    "Complete the code below. In case it's helpful, here is the table of available arithmetic operations:\n",
    "\n",
    "\n",
    "\n",
    "| Operator     | Name           | Description                                            |\n",
    "|--------------|----------------|--------------------------------------------------------|\n",
    "| ``a + b``    | Addition       | Sum of ``a`` and ``b``                                 |\n",
    "| ``a - b``    | Subtraction    | Difference of ``a`` and ``b``                          |\n",
    "| ``a * b``    | Multiplication | Product of ``a`` and ``b``                             |\n",
    "| ``a / b``    | True division  | Quotient of ``a`` and ``b``                            |\n",
    "| ``a // b``   | Floor division | Quotient of ``a`` and ``b``, removing fractional parts |\n",
    "| ``a % b``    | Modulus        | Integer remainder after division of ``a`` by ``b``     |\n",
    "| ``a ** b``   | Exponentiation | ``a`` raised to the power of ``b``                     |\n",
    "| ``-a``       | Negation       | The negative of ``a``                                  |\n",
    "\n",
    "<span style=\"display:none\"></span>\n"
   ]
  },
  {
   "cell_type": "code",
   "execution_count": 5,
   "id": "5a585f15",
   "metadata": {
    "execution": {
     "iopub.execute_input": "2022-03-22T20:49:47.325029Z",
     "iopub.status.busy": "2022-03-22T20:49:47.324090Z",
     "iopub.status.idle": "2022-03-22T20:49:47.329503Z",
     "shell.execute_reply": "2022-03-22T20:49:47.330040Z",
     "shell.execute_reply.started": "2022-03-22T20:44:20.989254Z"
    },
    "papermill": {
     "duration": 0.032644,
     "end_time": "2022-03-22T20:49:47.330202",
     "exception": false,
     "start_time": "2022-03-22T20:49:47.297558",
     "status": "completed"
    },
    "tags": []
   },
   "outputs": [
    {
     "data": {
      "application/javascript": [
       "parent.postMessage({\"jupyterEvent\": \"custom.exercise_interaction\", \"data\": {\"outcomeType\": 1, \"valueTowardsCompletion\": 0.25, \"interactionType\": 1, \"questionType\": 1, \"questionId\": \"1_CircleArea\", \"learnToolsVersion\": \"0.3.4\", \"failureMessage\": \"\", \"exceptionClass\": \"\", \"trace\": \"\"}}, \"*\")"
      ],
      "text/plain": [
       "<IPython.core.display.Javascript object>"
      ]
     },
     "metadata": {},
     "output_type": "display_data"
    },
    {
     "data": {
      "text/markdown": [
       "<span style=\"color:#33cc33\">Correct</span>"
      ],
      "text/plain": [
       "Correct"
      ]
     },
     "metadata": {},
     "output_type": "display_data"
    }
   ],
   "source": [
    "pi = 3.14159 # approximate\n",
    "diameter = 3\n",
    "\n",
    "# Create a variable called 'radius' equal to half the diameter\n",
    "____\n",
    "radius = diameter / 2\n",
    "# Create a variable called 'area', using the formula for the area of a circle: pi times the radius squared\n",
    "____\n",
    "area = pi * radius ** 2\n",
    "# Check your answer\n",
    "q1.check()"
   ]
  },
  {
   "cell_type": "code",
   "execution_count": 6,
   "id": "ac73c983",
   "metadata": {
    "execution": {
     "iopub.execute_input": "2022-03-22T20:49:47.380333Z",
     "iopub.status.busy": "2022-03-22T20:49:47.379748Z",
     "iopub.status.idle": "2022-03-22T20:49:47.381606Z",
     "shell.execute_reply": "2022-03-22T20:49:47.382138Z",
     "shell.execute_reply.started": "2022-03-22T20:44:21.001516Z"
    },
    "papermill": {
     "duration": 0.029392,
     "end_time": "2022-03-22T20:49:47.382296",
     "exception": false,
     "start_time": "2022-03-22T20:49:47.352904",
     "status": "completed"
    },
    "tags": []
   },
   "outputs": [],
   "source": [
    "# Uncomment and run the lines below if you need help.\n",
    "#q1.hint()\n",
    "#q1.solution()"
   ]
  },
  {
   "cell_type": "markdown",
   "id": "982bb4d2",
   "metadata": {
    "papermill": {
     "duration": 0.023118,
     "end_time": "2022-03-22T20:49:47.428080",
     "exception": false,
     "start_time": "2022-03-22T20:49:47.404962",
     "status": "completed"
    },
    "tags": []
   },
   "source": [
    "<hr/>\n",
    "\n",
    "# 2.\n",
    "\n",
    "Add code to the following cell to swap variables `a` and `b` (so that `a` refers to the object previously referred to by `b` and vice versa)."
   ]
  },
  {
   "cell_type": "code",
   "execution_count": 7,
   "id": "1a9a23ed",
   "metadata": {
    "execution": {
     "iopub.execute_input": "2022-03-22T20:49:47.476893Z",
     "iopub.status.busy": "2022-03-22T20:49:47.476306Z",
     "iopub.status.idle": "2022-03-22T20:49:47.482681Z",
     "shell.execute_reply": "2022-03-22T20:49:47.483198Z",
     "shell.execute_reply.started": "2022-03-22T20:44:21.015463Z"
    },
    "papermill": {
     "duration": 0.032464,
     "end_time": "2022-03-22T20:49:47.483352",
     "exception": false,
     "start_time": "2022-03-22T20:49:47.450888",
     "status": "completed"
    },
    "tags": []
   },
   "outputs": [
    {
     "data": {
      "application/javascript": [
       "parent.postMessage({\"jupyterEvent\": \"custom.exercise_interaction\", \"data\": {\"outcomeType\": 1, \"valueTowardsCompletion\": 0.25, \"interactionType\": 1, \"questionType\": 2, \"questionId\": \"2_VariableSwap\", \"learnToolsVersion\": \"0.3.4\", \"failureMessage\": \"\", \"exceptionClass\": \"\", \"trace\": \"\"}}, \"*\")"
      ],
      "text/plain": [
       "<IPython.core.display.Javascript object>"
      ]
     },
     "metadata": {},
     "output_type": "display_data"
    },
    {
     "data": {
      "text/markdown": [
       "<span style=\"color:#33cc33\">Correct:</span> \n",
       "\n",
       "The most straightforward solution is to use a third variable to temporarily store one of the old values. e.g.:\n",
       "\n",
       "    tmp = a\n",
       "    a = b\n",
       "    b = tmp\n",
       "\n",
       "If you've read lots of Python code, you might have seen the following trick to swap two variables in one line:\n",
       "\n",
       "    a, b = b, a\n",
       "\n",
       "We'll demystify this bit of Python magic later when we talk about *tuples*."
      ],
      "text/plain": [
       "Correct: \n",
       "\n",
       "The most straightforward solution is to use a third variable to temporarily store one of the old values. e.g.:\n",
       "\n",
       "    tmp = a\n",
       "    a = b\n",
       "    b = tmp\n",
       "\n",
       "If you've read lots of Python code, you might have seen the following trick to swap two variables in one line:\n",
       "\n",
       "    a, b = b, a\n",
       "\n",
       "We'll demystify this bit of Python magic later when we talk about *tuples*."
      ]
     },
     "metadata": {},
     "output_type": "display_data"
    }
   ],
   "source": [
    "########### Setup code - don't touch this part ######################\n",
    "# If you're curious, these are examples of lists. We'll talk about \n",
    "# them in depth a few lessons from now. For now, just know that they're\n",
    "# yet another type of Python object, like int or float.\n",
    "a = [1, 2, 3]\n",
    "b = [3, 2, 1]\n",
    "q2.store_original_ids()\n",
    "######################################################################\n",
    "\n",
    "# Your code goes here. Swap the values to which a and b refer.\n",
    "# If you get stuck, you can always uncomment one or both of the lines in\n",
    "# the next cell for a hint, or to peek at the solution.\n",
    "\n",
    "######################################################################\n",
    "a, b = b, a\n",
    "# Check your answer\n",
    "q2.check()"
   ]
  },
  {
   "cell_type": "code",
   "execution_count": 8,
   "id": "7fac8c28",
   "metadata": {
    "execution": {
     "iopub.execute_input": "2022-03-22T20:49:47.533807Z",
     "iopub.status.busy": "2022-03-22T20:49:47.532906Z",
     "iopub.status.idle": "2022-03-22T20:49:47.536193Z",
     "shell.execute_reply": "2022-03-22T20:49:47.536630Z",
     "shell.execute_reply.started": "2022-03-22T20:44:21.034479Z"
    },
    "papermill": {
     "duration": 0.029955,
     "end_time": "2022-03-22T20:49:47.536799",
     "exception": false,
     "start_time": "2022-03-22T20:49:47.506844",
     "status": "completed"
    },
    "tags": []
   },
   "outputs": [],
   "source": [
    "#q2.hint()"
   ]
  },
  {
   "cell_type": "code",
   "execution_count": 9,
   "id": "503e9f72",
   "metadata": {
    "execution": {
     "iopub.execute_input": "2022-03-22T20:49:47.588174Z",
     "iopub.status.busy": "2022-03-22T20:49:47.587307Z",
     "iopub.status.idle": "2022-03-22T20:49:47.590108Z",
     "shell.execute_reply": "2022-03-22T20:49:47.590543Z",
     "shell.execute_reply.started": "2022-03-22T20:44:21.046317Z"
    },
    "papermill": {
     "duration": 0.029645,
     "end_time": "2022-03-22T20:49:47.590705",
     "exception": false,
     "start_time": "2022-03-22T20:49:47.561060",
     "status": "completed"
    },
    "tags": []
   },
   "outputs": [],
   "source": [
    "#q2.solution()"
   ]
  },
  {
   "cell_type": "markdown",
   "id": "f6ae2180",
   "metadata": {
    "papermill": {
     "duration": 0.02354,
     "end_time": "2022-03-22T20:49:47.637945",
     "exception": false,
     "start_time": "2022-03-22T20:49:47.614405",
     "status": "completed"
    },
    "tags": []
   },
   "source": [
    "<hr/>\n",
    "\n",
    "# 3a.\n",
    "\n",
    "Add parentheses to the following expression so that it evaluates to 1."
   ]
  },
  {
   "cell_type": "code",
   "execution_count": 10,
   "id": "2c048ee1",
   "metadata": {
    "execution": {
     "iopub.execute_input": "2022-03-22T20:49:47.691042Z",
     "iopub.status.busy": "2022-03-22T20:49:47.690226Z",
     "iopub.status.idle": "2022-03-22T20:49:47.693492Z",
     "shell.execute_reply": "2022-03-22T20:49:47.693924Z",
     "shell.execute_reply.started": "2022-03-22T20:44:21.061488Z"
    },
    "papermill": {
     "duration": 0.032229,
     "end_time": "2022-03-22T20:49:47.694090",
     "exception": false,
     "start_time": "2022-03-22T20:49:47.661861",
     "status": "completed"
    },
    "tags": []
   },
   "outputs": [
    {
     "data": {
      "text/plain": [
       "1"
      ]
     },
     "execution_count": 10,
     "metadata": {},
     "output_type": "execute_result"
    }
   ],
   "source": [
    "(5 - 3) // 2"
   ]
  },
  {
   "cell_type": "code",
   "execution_count": 11,
   "id": "33c93b94",
   "metadata": {
    "execution": {
     "iopub.execute_input": "2022-03-22T20:49:47.747061Z",
     "iopub.status.busy": "2022-03-22T20:49:47.746387Z",
     "iopub.status.idle": "2022-03-22T20:49:47.747973Z",
     "shell.execute_reply": "2022-03-22T20:49:47.748351Z",
     "shell.execute_reply.started": "2022-03-22T20:44:21.079385Z"
    },
    "papermill": {
     "duration": 0.030308,
     "end_time": "2022-03-22T20:49:47.748540",
     "exception": false,
     "start_time": "2022-03-22T20:49:47.718232",
     "status": "completed"
    },
    "tags": []
   },
   "outputs": [],
   "source": [
    "#q3.a.hint()"
   ]
  },
  {
   "cell_type": "code",
   "execution_count": 12,
   "id": "35b1df24",
   "metadata": {
    "execution": {
     "iopub.execute_input": "2022-03-22T20:49:47.799924Z",
     "iopub.status.busy": "2022-03-22T20:49:47.799291Z",
     "iopub.status.idle": "2022-03-22T20:49:47.804611Z",
     "shell.execute_reply": "2022-03-22T20:49:47.805032Z",
     "shell.execute_reply.started": "2022-03-22T20:44:21.088716Z"
    },
    "papermill": {
     "duration": 0.032492,
     "end_time": "2022-03-22T20:49:47.805184",
     "exception": false,
     "start_time": "2022-03-22T20:49:47.772692",
     "status": "completed"
    },
    "tags": []
   },
   "outputs": [
    {
     "data": {
      "application/javascript": [
       "parent.postMessage({\"jupyterEvent\": \"custom.exercise_interaction\", \"data\": {\"interactionType\": 3, \"questionType\": 4, \"questionId\": \"3.1_ArithmeticParensEasy\", \"learnToolsVersion\": \"0.3.4\", \"valueTowardsCompletion\": 0.0, \"failureMessage\": \"\", \"exceptionClass\": \"\", \"trace\": \"\", \"outcomeType\": 4}}, \"*\")"
      ],
      "text/plain": [
       "<IPython.core.display.Javascript object>"
      ]
     },
     "metadata": {},
     "output_type": "display_data"
    },
    {
     "data": {
      "text/markdown": [
       "<span style=\"color:#33cc99\">Solution:</span> \n",
       "```python\n",
       "(5 - 3) // 2\n",
       "```"
      ],
      "text/plain": [
       "Solution: \n",
       "```python\n",
       "(5 - 3) // 2\n",
       "```"
      ]
     },
     "metadata": {},
     "output_type": "display_data"
    }
   ],
   "source": [
    "# Check your answer (Run this code cell to receive credit!)\n",
    "q3.a.solution()"
   ]
  },
  {
   "cell_type": "markdown",
   "id": "caa4ae6d",
   "metadata": {
    "papermill": {
     "duration": 0.02489,
     "end_time": "2022-03-22T20:49:47.855027",
     "exception": false,
     "start_time": "2022-03-22T20:49:47.830137",
     "status": "completed"
    },
    "tags": []
   },
   "source": [
    "# 3b.  <span title=\"A bit spicy\" style=\"color: darkgreen \">🌶️</span>\n",
    "\n",
    "<small>Questions, like this one, marked a spicy pepper are a bit harder.</small>\n",
    "\n",
    "Add parentheses to the following expression so that it evaluates to 0."
   ]
  },
  {
   "cell_type": "code",
   "execution_count": 13,
   "id": "864365a9",
   "metadata": {
    "execution": {
     "iopub.execute_input": "2022-03-22T20:49:47.910523Z",
     "iopub.status.busy": "2022-03-22T20:49:47.909697Z",
     "iopub.status.idle": "2022-03-22T20:49:47.912874Z",
     "shell.execute_reply": "2022-03-22T20:49:47.913306Z",
     "shell.execute_reply.started": "2022-03-22T20:44:21.103214Z"
    },
    "papermill": {
     "duration": 0.033363,
     "end_time": "2022-03-22T20:49:47.913492",
     "exception": false,
     "start_time": "2022-03-22T20:49:47.880129",
     "status": "completed"
    },
    "tags": []
   },
   "outputs": [
    {
     "data": {
      "text/plain": [
       "0"
      ]
     },
     "execution_count": 13,
     "metadata": {},
     "output_type": "execute_result"
    }
   ],
   "source": [
    "8 - 3 * 2 - (1 + 1)"
   ]
  },
  {
   "cell_type": "code",
   "execution_count": 14,
   "id": "e527bfab",
   "metadata": {
    "execution": {
     "iopub.execute_input": "2022-03-22T20:49:47.974937Z",
     "iopub.status.busy": "2022-03-22T20:49:47.974032Z",
     "iopub.status.idle": "2022-03-22T20:49:47.981158Z",
     "shell.execute_reply": "2022-03-22T20:49:47.981724Z",
     "shell.execute_reply.started": "2022-03-22T20:44:21.123797Z"
    },
    "papermill": {
     "duration": 0.040135,
     "end_time": "2022-03-22T20:49:47.981883",
     "exception": false,
     "start_time": "2022-03-22T20:49:47.941748",
     "status": "completed"
    },
    "tags": []
   },
   "outputs": [
    {
     "data": {
      "application/javascript": [
       "parent.postMessage({\"jupyterEvent\": \"custom.exercise_interaction\", \"data\": {\"interactionType\": 2, \"questionType\": 4, \"questionId\": \"3.2_ArithmeticParensHard\", \"learnToolsVersion\": \"0.3.4\", \"valueTowardsCompletion\": 0.0, \"failureMessage\": \"\", \"exceptionClass\": \"\", \"trace\": \"\", \"outcomeType\": 4}}, \"*\")"
      ],
      "text/plain": [
       "<IPython.core.display.Javascript object>"
      ]
     },
     "metadata": {},
     "output_type": "display_data"
    },
    {
     "data": {
      "text/markdown": [
       "<span style=\"color:#3366cc\">Hint:</span> You may need to use several pairs of parentheses."
      ],
      "text/plain": [
       "Hint: You may need to use several pairs of parentheses."
      ]
     },
     "metadata": {},
     "output_type": "display_data"
    }
   ],
   "source": [
    "q3.b.hint()"
   ]
  },
  {
   "cell_type": "code",
   "execution_count": 15,
   "id": "c14b33dd",
   "metadata": {
    "execution": {
     "iopub.execute_input": "2022-03-22T20:49:48.041326Z",
     "iopub.status.busy": "2022-03-22T20:49:48.039018Z",
     "iopub.status.idle": "2022-03-22T20:49:48.044864Z",
     "shell.execute_reply": "2022-03-22T20:49:48.045306Z",
     "shell.execute_reply.started": "2022-03-22T20:44:21.137758Z"
    },
    "papermill": {
     "duration": 0.03484,
     "end_time": "2022-03-22T20:49:48.045491",
     "exception": false,
     "start_time": "2022-03-22T20:49:48.010651",
     "status": "completed"
    },
    "tags": []
   },
   "outputs": [
    {
     "data": {
      "application/javascript": [
       "parent.postMessage({\"jupyterEvent\": \"custom.exercise_interaction\", \"data\": {\"interactionType\": 3, \"questionType\": 4, \"questionId\": \"3.2_ArithmeticParensHard\", \"learnToolsVersion\": \"0.3.4\", \"valueTowardsCompletion\": 0.0, \"failureMessage\": \"\", \"exceptionClass\": \"\", \"trace\": \"\", \"outcomeType\": 4}}, \"*\")"
      ],
      "text/plain": [
       "<IPython.core.display.Javascript object>"
      ]
     },
     "metadata": {},
     "output_type": "display_data"
    },
    {
     "data": {
      "text/markdown": [
       "<span style=\"color:#33cc99\">Solution:</span> `(8 - 3) * (2 - (1 + 1))` is one solution. There may be others."
      ],
      "text/plain": [
       "Solution: `(8 - 3) * (2 - (1 + 1))` is one solution. There may be others."
      ]
     },
     "metadata": {},
     "output_type": "display_data"
    }
   ],
   "source": [
    "# Check your answer (Run this code cell to receive credit!)\n",
    "q3.b.solution()"
   ]
  },
  {
   "cell_type": "markdown",
   "id": "aa879bd0",
   "metadata": {
    "papermill": {
     "duration": 0.026823,
     "end_time": "2022-03-22T20:49:48.099546",
     "exception": false,
     "start_time": "2022-03-22T20:49:48.072723",
     "status": "completed"
    },
    "tags": []
   },
   "source": [
    "<hr/>\n",
    "\n",
    "# 4. \n",
    "Alice, Bob and Carol have agreed to pool their Halloween candy and split it evenly among themselves.\n",
    "For the sake of their friendship, any candies left over will be smashed. For example, if they collectively\n",
    "bring home 91 candies, they'll take 30 each and smash 1.\n",
    "\n",
    "Write an arithmetic expression below to calculate how many candies they must smash for a given haul."
   ]
  },
  {
   "cell_type": "code",
   "execution_count": 16,
   "id": "4babae01",
   "metadata": {
    "execution": {
     "iopub.execute_input": "2022-03-22T20:49:48.156444Z",
     "iopub.status.busy": "2022-03-22T20:49:48.155857Z",
     "iopub.status.idle": "2022-03-22T20:49:48.162271Z",
     "shell.execute_reply": "2022-03-22T20:49:48.162728Z",
     "shell.execute_reply.started": "2022-03-22T20:44:21.150413Z"
    },
    "papermill": {
     "duration": 0.036422,
     "end_time": "2022-03-22T20:49:48.162906",
     "exception": false,
     "start_time": "2022-03-22T20:49:48.126484",
     "status": "completed"
    },
    "tags": []
   },
   "outputs": [
    {
     "data": {
      "application/javascript": [
       "parent.postMessage({\"jupyterEvent\": \"custom.exercise_interaction\", \"data\": {\"outcomeType\": 1, \"valueTowardsCompletion\": 0.25, \"interactionType\": 1, \"questionType\": 1, \"questionId\": \"4_CandySplitting\", \"learnToolsVersion\": \"0.3.4\", \"failureMessage\": \"\", \"exceptionClass\": \"\", \"trace\": \"\"}}, \"*\")"
      ],
      "text/plain": [
       "<IPython.core.display.Javascript object>"
      ]
     },
     "metadata": {},
     "output_type": "display_data"
    },
    {
     "data": {
      "text/markdown": [
       "<span style=\"color:#33cc33\">Correct</span>"
      ],
      "text/plain": [
       "Correct"
      ]
     },
     "metadata": {},
     "output_type": "display_data"
    }
   ],
   "source": [
    "# Variables representing the number of candies collected by alice, bob, and carol\n",
    "alice_candies = 121\n",
    "bob_candies = 77\n",
    "carol_candies = 109\n",
    "\n",
    "# Your code goes here! Replace the right-hand side of this assignment with an expression\n",
    "# involving alice_candies, bob_candies, and carol_candies\n",
    "to_smash = (alice_candies + bob_candies + carol_candies) % 3\n",
    "\n",
    "# Check your answer\n",
    "q4.check()"
   ]
  },
  {
   "cell_type": "code",
   "execution_count": 17,
   "id": "246606d8",
   "metadata": {
    "execution": {
     "iopub.execute_input": "2022-03-22T20:49:48.222504Z",
     "iopub.status.busy": "2022-03-22T20:49:48.221889Z",
     "iopub.status.idle": "2022-03-22T20:49:48.224776Z",
     "shell.execute_reply": "2022-03-22T20:49:48.225235Z",
     "shell.execute_reply.started": "2022-03-22T20:44:21.164280Z"
    },
    "papermill": {
     "duration": 0.034443,
     "end_time": "2022-03-22T20:49:48.225388",
     "exception": false,
     "start_time": "2022-03-22T20:49:48.190945",
     "status": "completed"
    },
    "tags": []
   },
   "outputs": [],
   "source": [
    "#q4.hint()\n",
    "#q4.solution()"
   ]
  },
  {
   "cell_type": "markdown",
   "id": "b93adf85",
   "metadata": {
    "papermill": {
     "duration": 0.027759,
     "end_time": "2022-03-22T20:49:48.281196",
     "exception": false,
     "start_time": "2022-03-22T20:49:48.253437",
     "status": "completed"
    },
    "tags": []
   },
   "source": [
    "# Keep Going\n",
    "\n",
    "Next up, you'll **[learn to write new functions and understand functions others write](https://www.kaggle.com/colinmorris/functions-and-getting-help)**. This will make you at least 10 times more productive as a Python programmer. "
   ]
  },
  {
   "cell_type": "markdown",
   "id": "31da1c22",
   "metadata": {
    "papermill": {
     "duration": 0.027719,
     "end_time": "2022-03-22T20:49:48.336954",
     "exception": false,
     "start_time": "2022-03-22T20:49:48.309235",
     "status": "completed"
    },
    "tags": []
   },
   "source": [
    "---\n",
    "\n",
    "\n",
    "\n",
    "\n",
    "*Have questions or comments? Visit the [course discussion forum](https://www.kaggle.com/learn/python/discussion) to chat with other learners.*"
   ]
  }
 ],
 "metadata": {
  "kernelspec": {
   "display_name": "Python 3",
   "language": "python",
   "name": "python3"
  },
  "language_info": {
   "codemirror_mode": {
    "name": "ipython",
    "version": 3
   },
   "file_extension": ".py",
   "mimetype": "text/x-python",
   "name": "python",
   "nbconvert_exporter": "python",
   "pygments_lexer": "ipython3",
   "version": "3.7.12"
  },
  "papermill": {
   "default_parameters": {},
   "duration": 10.144969,
   "end_time": "2022-03-22T20:49:48.974917",
   "environment_variables": {},
   "exception": null,
   "input_path": "__notebook__.ipynb",
   "output_path": "__notebook__.ipynb",
   "parameters": {},
   "start_time": "2022-03-22T20:49:38.829948",
   "version": "2.3.3"
  }
 },
 "nbformat": 4,
 "nbformat_minor": 5
}
